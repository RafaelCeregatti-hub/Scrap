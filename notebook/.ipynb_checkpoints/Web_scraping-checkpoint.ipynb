{
 "cells": [
  {
   "cell_type": "markdown",
   "metadata": {},
   "source": [
    "# Stock price project"
   ]
  },
  {
   "cell_type": "markdown",
   "metadata": {},
   "source": [
    "Require libs necessary to this project"
   ]
  },
  {
   "cell_type": "code",
   "execution_count": 12,
   "metadata": {},
   "outputs": [],
   "source": [
    "from urllib.request import urlopen\n",
    "from bs4 import BeautifulSoup\n",
    "import pandas as pd\n",
    "import os"
   ]
  },
  {
   "cell_type": "markdown",
   "metadata": {},
   "source": [
    "Yahoo site with all information "
   ]
  },
  {
   "cell_type": "code",
   "execution_count": 5,
   "metadata": {},
   "outputs": [],
   "source": [
    "url = 'https://br.financas.yahoo.com/noticias/acoes-mais-negociadas?offset=0&count=100'\n",
    "response = urlopen(url)\n",
    "html = response.read()"
   ]
  },
  {
   "cell_type": "markdown",
   "metadata": {},
   "source": [
    "### Caso de erro na leitura\n",
    "\n",
    "from urllib.request import Request, urlopen\n",
    "from urllib.error import URLError, HTTPError\n",
    "\n",
    "#### vai até network, index.php, request headers, user-agent\n",
    "\n",
    "url = 'https://br.financas.yahoo.com/noticias/acoes-mais-negociadas'\n",
    "headers = {}\n",
    "\n",
    "try: \n",
    "    req = Request(url, headers = headers)\n",
    "    response = urlopen(req)\n",
    "\n",
    "except HTTPError as e:\n",
    "    print(e.status, e.reason)\n",
    "  \n",
    "except URLError as e:\n",
    "    print( e.reason)"
   ]
  },
  {
   "cell_type": "code",
   "execution_count": 6,
   "metadata": {},
   "outputs": [],
   "source": [
    "html = html.decode('utf-8')"
   ]
  },
  {
   "cell_type": "code",
   "execution_count": 7,
   "metadata": {},
   "outputs": [],
   "source": [
    "def trata_html(input):\n",
    "    return \" \".join(input.split()).replace('> <', '><')\n",
    "\n",
    "html = trata_html(html)\n",
    "soup = BeautifulSoup(html, features=\"html.parser\")"
   ]
  },
  {
   "cell_type": "code",
   "execution_count": 8,
   "metadata": {},
   "outputs": [],
   "source": [
    "alldata = soup.find_all('tbody')\n",
    "stock_data = []\n",
    "stock_history = []\n",
    "new_ya = 'https://br.financas.yahoo.com'\n",
    "\n",
    "for stocks in alldata:\n",
    "    stock = stocks.find_all('tr')\n",
    "    for infos in stock:\n",
    "        info = infos.find_all('td')\n",
    "        a = {'stock': info[0].get_text(), 'company': info[1].get_text(), 'price': info[2].get_text(),\n",
    "         'change': info[3].get_text(), 'perc_change': info[4].get_text(), 'volume': info[5].get_text(),\n",
    "         'vol_mean_3m' : info[6].get_text(), 'market_cap': info[7].get_text(), 'PL_index': info[8].get_text()}\n",
    "        stock_data.append(a)\n",
    "        site_aux = info[0].find('a')\n",
    "        site_href = site_aux.get('href')\n",
    "        new_yan = new_ya + site_href.split('?')[0] + '/history?period1'\n",
    "        stock_history.append(new_yan)\n"
   ]
  },
  {
   "cell_type": "markdown",
   "metadata": {},
   "source": [
    "Table with 200 stock informations"
   ]
  },
  {
   "cell_type": "code",
   "execution_count": 9,
   "metadata": {},
   "outputs": [
    {
     "data": {
      "text/html": [
       "<div>\n",
       "<style scoped>\n",
       "    .dataframe tbody tr th:only-of-type {\n",
       "        vertical-align: middle;\n",
       "    }\n",
       "\n",
       "    .dataframe tbody tr th {\n",
       "        vertical-align: top;\n",
       "    }\n",
       "\n",
       "    .dataframe thead th {\n",
       "        text-align: right;\n",
       "    }\n",
       "</style>\n",
       "<table border=\"1\" class=\"dataframe\">\n",
       "  <thead>\n",
       "    <tr style=\"text-align: right;\">\n",
       "      <th></th>\n",
       "      <th>stock</th>\n",
       "      <th>company</th>\n",
       "      <th>price</th>\n",
       "      <th>change</th>\n",
       "      <th>perc_change</th>\n",
       "      <th>volume</th>\n",
       "      <th>vol_mean_3m</th>\n",
       "      <th>market_cap</th>\n",
       "      <th>PL_index</th>\n",
       "    </tr>\n",
       "  </thead>\n",
       "  <tbody>\n",
       "    <tr>\n",
       "      <th>0</th>\n",
       "      <td>PETR4.SA</td>\n",
       "      <td>Petróleo Brasileiro S.A. - Petrobras</td>\n",
       "      <td>24,00</td>\n",
       "      <td>+0,76</td>\n",
       "      <td>+3,27%</td>\n",
       "      <td>0</td>\n",
       "      <td>91,749M</td>\n",
       "      <td>309,494B</td>\n",
       "      <td>44,04</td>\n",
       "    </tr>\n",
       "    <tr>\n",
       "      <th>1</th>\n",
       "      <td>BBDC4.SA</td>\n",
       "      <td>Banco Bradesco S.A.</td>\n",
       "      <td>26,74</td>\n",
       "      <td>+0,27</td>\n",
       "      <td>+1,02%</td>\n",
       "      <td>0</td>\n",
       "      <td>45,921M</td>\n",
       "      <td>221,113B</td>\n",
       "      <td>14,92</td>\n",
       "    </tr>\n",
       "    <tr>\n",
       "      <th>2</th>\n",
       "      <td>OIBR3.SA</td>\n",
       "      <td>Oi S.A.</td>\n",
       "      <td>1,8400</td>\n",
       "      <td>+0,0300</td>\n",
       "      <td>+1,66%</td>\n",
       "      <td>0</td>\n",
       "      <td>146,878M</td>\n",
       "      <td>11,04B</td>\n",
       "      <td>N/A</td>\n",
       "    </tr>\n",
       "    <tr>\n",
       "      <th>3</th>\n",
       "      <td>MGLU3.SA</td>\n",
       "      <td>Magazine Luiza S.A.</td>\n",
       "      <td>22,29</td>\n",
       "      <td>+0,01</td>\n",
       "      <td>+0,04%</td>\n",
       "      <td>0</td>\n",
       "      <td>34,87M</td>\n",
       "      <td>144,078B</td>\n",
       "      <td>371,50</td>\n",
       "    </tr>\n",
       "    <tr>\n",
       "      <th>4</th>\n",
       "      <td>VVAR3.SA</td>\n",
       "      <td>Via Varejo S.A.</td>\n",
       "      <td>12,16</td>\n",
       "      <td>+0,55</td>\n",
       "      <td>+4,74%</td>\n",
       "      <td>0</td>\n",
       "      <td>47,316M</td>\n",
       "      <td>19,42B</td>\n",
       "      <td>18,20</td>\n",
       "    </tr>\n",
       "    <tr>\n",
       "      <th>5</th>\n",
       "      <td>FNAM11.SA</td>\n",
       "      <td>Fundo de Investimento Amazônia - FINAM</td>\n",
       "      <td>0,1700</td>\n",
       "      <td>0,0000</td>\n",
       "      <td>0,00%</td>\n",
       "      <td>0</td>\n",
       "      <td>N/A</td>\n",
       "      <td>N/A</td>\n",
       "      <td>N/A</td>\n",
       "    </tr>\n",
       "    <tr>\n",
       "      <th>6</th>\n",
       "      <td>ITUB4.SA</td>\n",
       "      <td>Itaú Unibanco Holding S.A.</td>\n",
       "      <td>28,21</td>\n",
       "      <td>+0,06</td>\n",
       "      <td>+0,21%</td>\n",
       "      <td>0</td>\n",
       "      <td>39,085M</td>\n",
       "      <td>259,929B</td>\n",
       "      <td>14,63</td>\n",
       "    </tr>\n",
       "    <tr>\n",
       "      <th>7</th>\n",
       "      <td>COGN3.SA</td>\n",
       "      <td>Cogna Educação S.A.</td>\n",
       "      <td>4,1600</td>\n",
       "      <td>+0,1900</td>\n",
       "      <td>+4,79%</td>\n",
       "      <td>0</td>\n",
       "      <td>50,068M</td>\n",
       "      <td>7,775B</td>\n",
       "      <td>N/A</td>\n",
       "    </tr>\n",
       "    <tr>\n",
       "      <th>8</th>\n",
       "      <td>ITSA4.SA</td>\n",
       "      <td>Itaúsa - Investimentos Itaú SA</td>\n",
       "      <td>10,44</td>\n",
       "      <td>-0,03</td>\n",
       "      <td>-0,29%</td>\n",
       "      <td>0</td>\n",
       "      <td>31,418M</td>\n",
       "      <td>90,063B</td>\n",
       "      <td>12,44</td>\n",
       "    </tr>\n",
       "    <tr>\n",
       "      <th>9</th>\n",
       "      <td>IRBR3.SA</td>\n",
       "      <td>IRB-Brasil Resseguros S.A.</td>\n",
       "      <td>6,18</td>\n",
       "      <td>+0,01</td>\n",
       "      <td>+0,16%</td>\n",
       "      <td>0</td>\n",
       "      <td>44,676M</td>\n",
       "      <td>7,758B</td>\n",
       "      <td>N/A</td>\n",
       "    </tr>\n",
       "  </tbody>\n",
       "</table>\n",
       "</div>"
      ],
      "text/plain": [
       "       stock                                 company   price   change  \\\n",
       "0   PETR4.SA    Petróleo Brasileiro S.A. - Petrobras   24,00    +0,76   \n",
       "1   BBDC4.SA                     Banco Bradesco S.A.   26,74    +0,27   \n",
       "2   OIBR3.SA                                 Oi S.A.  1,8400  +0,0300   \n",
       "3   MGLU3.SA                     Magazine Luiza S.A.   22,29    +0,01   \n",
       "4   VVAR3.SA                         Via Varejo S.A.   12,16    +0,55   \n",
       "5  FNAM11.SA  Fundo de Investimento Amazônia - FINAM  0,1700   0,0000   \n",
       "6   ITUB4.SA              Itaú Unibanco Holding S.A.   28,21    +0,06   \n",
       "7   COGN3.SA                     Cogna Educação S.A.  4,1600  +0,1900   \n",
       "8   ITSA4.SA          Itaúsa - Investimentos Itaú SA   10,44    -0,03   \n",
       "9   IRBR3.SA              IRB-Brasil Resseguros S.A.    6,18    +0,01   \n",
       "\n",
       "  perc_change volume vol_mean_3m market_cap PL_index  \n",
       "0      +3,27%      0     91,749M   309,494B    44,04  \n",
       "1      +1,02%      0     45,921M   221,113B    14,92  \n",
       "2      +1,66%      0    146,878M     11,04B      N/A  \n",
       "3      +0,04%      0      34,87M   144,078B   371,50  \n",
       "4      +4,74%      0     47,316M     19,42B    18,20  \n",
       "5       0,00%      0         N/A        N/A      N/A  \n",
       "6      +0,21%      0     39,085M   259,929B    14,63  \n",
       "7      +4,79%      0     50,068M     7,775B      N/A  \n",
       "8      -0,29%      0     31,418M    90,063B    12,44  \n",
       "9      +0,16%      0     44,676M     7,758B      N/A  "
      ]
     },
     "execution_count": 9,
     "metadata": {},
     "output_type": "execute_result"
    }
   ],
   "source": [
    "pd.DataFrame(stock_data).head(10)"
   ]
  },
  {
   "cell_type": "markdown",
   "metadata": {},
   "source": [
    "Table with the sites"
   ]
  },
  {
   "cell_type": "code",
   "execution_count": 10,
   "metadata": {},
   "outputs": [
    {
     "data": {
      "text/html": [
       "<div>\n",
       "<style scoped>\n",
       "    .dataframe tbody tr th:only-of-type {\n",
       "        vertical-align: middle;\n",
       "    }\n",
       "\n",
       "    .dataframe tbody tr th {\n",
       "        vertical-align: top;\n",
       "    }\n",
       "\n",
       "    .dataframe thead th {\n",
       "        text-align: right;\n",
       "    }\n",
       "</style>\n",
       "<table border=\"1\" class=\"dataframe\">\n",
       "  <thead>\n",
       "    <tr style=\"text-align: right;\">\n",
       "      <th></th>\n",
       "      <th>0</th>\n",
       "    </tr>\n",
       "  </thead>\n",
       "  <tbody>\n",
       "    <tr>\n",
       "      <th>0</th>\n",
       "      <td>https://br.financas.yahoo.com/quote/PETR4.SA/h...</td>\n",
       "    </tr>\n",
       "    <tr>\n",
       "      <th>1</th>\n",
       "      <td>https://br.financas.yahoo.com/quote/BBDC4.SA/h...</td>\n",
       "    </tr>\n",
       "    <tr>\n",
       "      <th>2</th>\n",
       "      <td>https://br.financas.yahoo.com/quote/OIBR3.SA/h...</td>\n",
       "    </tr>\n",
       "    <tr>\n",
       "      <th>3</th>\n",
       "      <td>https://br.financas.yahoo.com/quote/MGLU3.SA/h...</td>\n",
       "    </tr>\n",
       "    <tr>\n",
       "      <th>4</th>\n",
       "      <td>https://br.financas.yahoo.com/quote/VVAR3.SA/h...</td>\n",
       "    </tr>\n",
       "  </tbody>\n",
       "</table>\n",
       "</div>"
      ],
      "text/plain": [
       "                                                   0\n",
       "0  https://br.financas.yahoo.com/quote/PETR4.SA/h...\n",
       "1  https://br.financas.yahoo.com/quote/BBDC4.SA/h...\n",
       "2  https://br.financas.yahoo.com/quote/OIBR3.SA/h...\n",
       "3  https://br.financas.yahoo.com/quote/MGLU3.SA/h...\n",
       "4  https://br.financas.yahoo.com/quote/VVAR3.SA/h..."
      ]
     },
     "execution_count": 10,
     "metadata": {},
     "output_type": "execute_result"
    }
   ],
   "source": [
    "pd.DataFrame(stock_history).head(5)"
   ]
  },
  {
   "cell_type": "markdown",
   "metadata": {},
   "source": [
    "Historical stock price "
   ]
  },
  {
   "cell_type": "markdown",
   "metadata": {},
   "source": [
    "## Saving historical data"
   ]
  },
  {
   "cell_type": "code",
   "execution_count": 11,
   "metadata": {},
   "outputs": [],
   "source": [
    "parent_dir = \"C:/Users/carva/OneDrive/Documentos/Projects/Scraping\"\n",
    "os.chdir(parent_dir)\n",
    "SAVE_FOLDER = \"stock_price_history\"\n",
    "if not os.path.exists(SAVE_FOLDER): \n",
    "    os.mkdir(SAVE_FOLDER)\n",
    "path = os.path.join(parent_dir, SAVE_FOLDER)\n",
    "os.chdir(path)"
   ]
  },
  {
   "cell_type": "code",
   "execution_count": 11,
   "metadata": {},
   "outputs": [],
   "source": [
    "test = []\n",
    "for stock in stock_history:\n",
    "    response = urlopen(stock)\n",
    "    head = response.read()\n",
    "    soup = BeautifulSoup(head, features=\"html.parser\")\n",
    "    pre_table = soup.find('tbody').find_all('tr')\n",
    "    for all_rows in pre_table:\n",
    "        col = all_rows.find_all('td')\n",
    "        if not col[1].has_attr(\"colspan\"):\n",
    "            test_aux = {'Data_ref': col[0].get_text(), 'Abrir': col[1].get_text(), 'Alta': col[2].get_text(),\n",
    "                    'Baixa': col[3].get_text(), 'Fechamento': col[4].get_text(), 'Fechamento_aj': col[5].get_text(),\n",
    "                    'Volume' : col[6].get_text()} \n",
    "            test.append(test_aux)\n",
    "        else:\n",
    "            continue\n",
    "    data_stock_hist = pd.DataFrame(test)\n",
    "    name_csv = stock.split(\"/\")[4].removesuffix(\".SA\") + \".csv\"\n",
    "    data_stock_hist.to_csv(name_csv)"
   ]
  },
  {
   "cell_type": "markdown",
   "metadata": {},
   "source": [
    "Authomatization search of stock information"
   ]
  },
  {
   "cell_type": "code",
   "execution_count": 114,
   "metadata": {},
   "outputs": [],
   "source": [
    "from selenium import webdriver\n",
    "from selenium.webdriver.common.keys import Keys\n",
    "import time "
   ]
  },
  {
   "cell_type": "code",
   "execution_count": 116,
   "metadata": {},
   "outputs": [],
   "source": [
    "stocks = ['OIBR3', 'PETR4']\n",
    "for stock in stocks:\n",
    "    driver = webdriver.Chrome(executable_path = 'C:\\\\Program Files\\\\Chromedriver\\\\chromedriver.exe')\n",
    "    driver.get(\"https://www.google.com/\")\n",
    "    elem = driver.find_element_by_name(\"q\")\n",
    "    elem.clear()\n",
    "    elem.send_keys(stock)\n",
    "    elem.send_keys(Keys.RETURN)\n",
    "    elem_new = driver.find_element_by_class_name(\"MUFPAc\")\n",
    "    notic = elem_new.find_elements_by_tag_name(\"a\")\n",
    "    contador = [i for i in range(len(notic))]\n",
    "    for n in contador:\n",
    "        if notic[n].text == \"Notícias\":\n",
    "            notic[n].click()\n",
    "            break\n",
    "        else:\n",
    "            continue\n",
    "    time.sleep(5)        \n",
    "    driver.quit()"
   ]
  },
  {
   "cell_type": "code",
   "execution_count": 111,
   "metadata": {},
   "outputs": [],
   "source": []
  },
  {
   "cell_type": "code",
   "execution_count": null,
   "metadata": {},
   "outputs": [],
   "source": []
  }
 ],
 "metadata": {
  "kernelspec": {
   "display_name": "Python (venv)",
   "language": "python",
   "name": "venv"
  },
  "language_info": {
   "codemirror_mode": {
    "name": "ipython",
    "version": 3
   },
   "file_extension": ".py",
   "mimetype": "text/x-python",
   "name": "python",
   "nbconvert_exporter": "python",
   "pygments_lexer": "ipython3",
   "version": "3.9.0"
  }
 },
 "nbformat": 4,
 "nbformat_minor": 4
}
